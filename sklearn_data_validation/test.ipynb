{
 "cells": [
  {
   "cell_type": "code",
   "execution_count": 86,
   "metadata": {},
   "outputs": [
    {
     "name": "stdout",
     "output_type": "stream",
     "text": [
      "The autoreload extension is already loaded. To reload it, use:\n",
      "  %reload_ext autoreload\n"
     ]
    }
   ],
   "source": [
    "%load_ext autoreload\n",
    "%autoreload 2\n",
    "import pandas as pd\n",
    "import numpy as np\n",
    "from scipy.stats import kstest, ks_2samp, t, normaltest, norm, chisquare\n",
    "import matplotlib.pyplot as plt\n",
    "from sklearn.preprocessing import MinMaxScaler\n",
    "from sklearn.model_selection import train_test_split\n",
    "from distribution import Distribution"
   ]
  },
  {
   "cell_type": "code",
   "execution_count": 87,
   "metadata": {},
   "outputs": [
    {
     "data": {
      "text/html": [
       "<div>\n",
       "<style scoped>\n",
       "    .dataframe tbody tr th:only-of-type {\n",
       "        vertical-align: middle;\n",
       "    }\n",
       "\n",
       "    .dataframe tbody tr th {\n",
       "        vertical-align: top;\n",
       "    }\n",
       "\n",
       "    .dataframe thead th {\n",
       "        text-align: right;\n",
       "    }\n",
       "</style>\n",
       "<table border=\"1\" class=\"dataframe\">\n",
       "  <thead>\n",
       "    <tr style=\"text-align: right;\">\n",
       "      <th></th>\n",
       "      <th>Phone Number</th>\n",
       "      <th>Account Length</th>\n",
       "      <th>VMail Message</th>\n",
       "      <th>Day Mins</th>\n",
       "      <th>Day Calls</th>\n",
       "      <th>Day Charge</th>\n",
       "      <th>Eve Mins</th>\n",
       "      <th>Eve Calls</th>\n",
       "      <th>Eve Charge</th>\n",
       "      <th>Night Mins</th>\n",
       "      <th>Night Calls</th>\n",
       "      <th>Night Charge</th>\n",
       "      <th>Intl Mins</th>\n",
       "      <th>Intl Calls</th>\n",
       "      <th>Intl Charge</th>\n",
       "      <th>CustServ Calls</th>\n",
       "      <th>Churn</th>\n",
       "    </tr>\n",
       "  </thead>\n",
       "  <tbody>\n",
       "    <tr>\n",
       "      <th>0</th>\n",
       "      <td>382-4657</td>\n",
       "      <td>128</td>\n",
       "      <td>25</td>\n",
       "      <td>265.1</td>\n",
       "      <td>110</td>\n",
       "      <td>45.07</td>\n",
       "      <td>197.4</td>\n",
       "      <td>99</td>\n",
       "      <td>16.78</td>\n",
       "      <td>244.7</td>\n",
       "      <td>91</td>\n",
       "      <td>11.01</td>\n",
       "      <td>10.0</td>\n",
       "      <td>3</td>\n",
       "      <td>2.70</td>\n",
       "      <td>1</td>\n",
       "      <td>False</td>\n",
       "    </tr>\n",
       "    <tr>\n",
       "      <th>1</th>\n",
       "      <td>371-7191</td>\n",
       "      <td>107</td>\n",
       "      <td>26</td>\n",
       "      <td>161.6</td>\n",
       "      <td>123</td>\n",
       "      <td>27.47</td>\n",
       "      <td>195.5</td>\n",
       "      <td>103</td>\n",
       "      <td>16.62</td>\n",
       "      <td>254.4</td>\n",
       "      <td>103</td>\n",
       "      <td>11.45</td>\n",
       "      <td>13.7</td>\n",
       "      <td>3</td>\n",
       "      <td>3.70</td>\n",
       "      <td>1</td>\n",
       "      <td>False</td>\n",
       "    </tr>\n",
       "    <tr>\n",
       "      <th>2</th>\n",
       "      <td>358-1921</td>\n",
       "      <td>137</td>\n",
       "      <td>0</td>\n",
       "      <td>243.4</td>\n",
       "      <td>114</td>\n",
       "      <td>41.38</td>\n",
       "      <td>121.2</td>\n",
       "      <td>110</td>\n",
       "      <td>10.30</td>\n",
       "      <td>162.6</td>\n",
       "      <td>104</td>\n",
       "      <td>7.32</td>\n",
       "      <td>12.2</td>\n",
       "      <td>5</td>\n",
       "      <td>3.29</td>\n",
       "      <td>0</td>\n",
       "      <td>False</td>\n",
       "    </tr>\n",
       "    <tr>\n",
       "      <th>3</th>\n",
       "      <td>375-9999</td>\n",
       "      <td>84</td>\n",
       "      <td>0</td>\n",
       "      <td>299.4</td>\n",
       "      <td>71</td>\n",
       "      <td>50.90</td>\n",
       "      <td>61.9</td>\n",
       "      <td>88</td>\n",
       "      <td>5.26</td>\n",
       "      <td>196.9</td>\n",
       "      <td>89</td>\n",
       "      <td>8.86</td>\n",
       "      <td>6.6</td>\n",
       "      <td>7</td>\n",
       "      <td>1.78</td>\n",
       "      <td>2</td>\n",
       "      <td>False</td>\n",
       "    </tr>\n",
       "    <tr>\n",
       "      <th>4</th>\n",
       "      <td>330-6626</td>\n",
       "      <td>75</td>\n",
       "      <td>0</td>\n",
       "      <td>166.7</td>\n",
       "      <td>113</td>\n",
       "      <td>28.34</td>\n",
       "      <td>148.3</td>\n",
       "      <td>122</td>\n",
       "      <td>12.61</td>\n",
       "      <td>186.9</td>\n",
       "      <td>121</td>\n",
       "      <td>8.41</td>\n",
       "      <td>10.1</td>\n",
       "      <td>3</td>\n",
       "      <td>2.73</td>\n",
       "      <td>3</td>\n",
       "      <td>False</td>\n",
       "    </tr>\n",
       "    <tr>\n",
       "      <th>...</th>\n",
       "      <td>...</td>\n",
       "      <td>...</td>\n",
       "      <td>...</td>\n",
       "      <td>...</td>\n",
       "      <td>...</td>\n",
       "      <td>...</td>\n",
       "      <td>...</td>\n",
       "      <td>...</td>\n",
       "      <td>...</td>\n",
       "      <td>...</td>\n",
       "      <td>...</td>\n",
       "      <td>...</td>\n",
       "      <td>...</td>\n",
       "      <td>...</td>\n",
       "      <td>...</td>\n",
       "      <td>...</td>\n",
       "      <td>...</td>\n",
       "    </tr>\n",
       "    <tr>\n",
       "      <th>101169</th>\n",
       "      <td>789-9756</td>\n",
       "      <td>222</td>\n",
       "      <td>0</td>\n",
       "      <td>228.2</td>\n",
       "      <td>60</td>\n",
       "      <td>22.82</td>\n",
       "      <td>229.8</td>\n",
       "      <td>289</td>\n",
       "      <td>28.26</td>\n",
       "      <td>222.8</td>\n",
       "      <td>222</td>\n",
       "      <td>2.28</td>\n",
       "      <td>6.2</td>\n",
       "      <td>2</td>\n",
       "      <td>2.62</td>\n",
       "      <td>2</td>\n",
       "      <td>False</td>\n",
       "    </tr>\n",
       "    <tr>\n",
       "      <th>101170</th>\n",
       "      <td>798-5885</td>\n",
       "      <td>88</td>\n",
       "      <td>0</td>\n",
       "      <td>282.2</td>\n",
       "      <td>222</td>\n",
       "      <td>82.88</td>\n",
       "      <td>208.8</td>\n",
       "      <td>220</td>\n",
       "      <td>22.82</td>\n",
       "      <td>282.2</td>\n",
       "      <td>200</td>\n",
       "      <td>20.68</td>\n",
       "      <td>9.8</td>\n",
       "      <td>8</td>\n",
       "      <td>2.82</td>\n",
       "      <td>8</td>\n",
       "      <td>False</td>\n",
       "    </tr>\n",
       "    <tr>\n",
       "      <th>101171</th>\n",
       "      <td>798-5798</td>\n",
       "      <td>22</td>\n",
       "      <td>0</td>\n",
       "      <td>222.2</td>\n",
       "      <td>62</td>\n",
       "      <td>88.66</td>\n",
       "      <td>228.0</td>\n",
       "      <td>228</td>\n",
       "      <td>22.08</td>\n",
       "      <td>62.2</td>\n",
       "      <td>209</td>\n",
       "      <td>2.26</td>\n",
       "      <td>2.8</td>\n",
       "      <td>6</td>\n",
       "      <td>2.22</td>\n",
       "      <td>2</td>\n",
       "      <td>False</td>\n",
       "    </tr>\n",
       "    <tr>\n",
       "      <th>101172</th>\n",
       "      <td>999-9897</td>\n",
       "      <td>228</td>\n",
       "      <td>0</td>\n",
       "      <td>222.0</td>\n",
       "      <td>99</td>\n",
       "      <td>88.08</td>\n",
       "      <td>220.2</td>\n",
       "      <td>80</td>\n",
       "      <td>22.92</td>\n",
       "      <td>282.9</td>\n",
       "      <td>28</td>\n",
       "      <td>20.22</td>\n",
       "      <td>2.2</td>\n",
       "      <td>8</td>\n",
       "      <td>0.82</td>\n",
       "      <td>0</td>\n",
       "      <td>False</td>\n",
       "    </tr>\n",
       "    <tr>\n",
       "      <th>101173</th>\n",
       "      <td>786-7589</td>\n",
       "      <td>228</td>\n",
       "      <td>0</td>\n",
       "      <td>226.2</td>\n",
       "      <td>98</td>\n",
       "      <td>86.28</td>\n",
       "      <td>288.2</td>\n",
       "      <td>208</td>\n",
       "      <td>28.28</td>\n",
       "      <td>800.0</td>\n",
       "      <td>228</td>\n",
       "      <td>28.80</td>\n",
       "      <td>20.0</td>\n",
       "      <td>8</td>\n",
       "      <td>2.20</td>\n",
       "      <td>2</td>\n",
       "      <td>False</td>\n",
       "    </tr>\n",
       "  </tbody>\n",
       "</table>\n",
       "<p>101174 rows × 17 columns</p>\n",
       "</div>"
      ],
      "text/plain": [
       "       Phone Number  Account Length  VMail Message  Day Mins  Day Calls  \\\n",
       "0          382-4657             128             25     265.1        110   \n",
       "1          371-7191             107             26     161.6        123   \n",
       "2          358-1921             137              0     243.4        114   \n",
       "3          375-9999              84              0     299.4         71   \n",
       "4          330-6626              75              0     166.7        113   \n",
       "...             ...             ...            ...       ...        ...   \n",
       "101169     789-9756             222              0     228.2         60   \n",
       "101170     798-5885              88              0     282.2        222   \n",
       "101171     798-5798              22              0     222.2         62   \n",
       "101172     999-9897             228              0     222.0         99   \n",
       "101173     786-7589             228              0     226.2         98   \n",
       "\n",
       "        Day Charge  Eve Mins  Eve Calls  Eve Charge  Night Mins  Night Calls  \\\n",
       "0            45.07     197.4         99       16.78       244.7           91   \n",
       "1            27.47     195.5        103       16.62       254.4          103   \n",
       "2            41.38     121.2        110       10.30       162.6          104   \n",
       "3            50.90      61.9         88        5.26       196.9           89   \n",
       "4            28.34     148.3        122       12.61       186.9          121   \n",
       "...            ...       ...        ...         ...         ...          ...   \n",
       "101169       22.82     229.8        289       28.26       222.8          222   \n",
       "101170       82.88     208.8        220       22.82       282.2          200   \n",
       "101171       88.66     228.0        228       22.08        62.2          209   \n",
       "101172       88.08     220.2         80       22.92       282.9           28   \n",
       "101173       86.28     288.2        208       28.28       800.0          228   \n",
       "\n",
       "        Night Charge  Intl Mins  Intl Calls  Intl Charge  CustServ Calls  \\\n",
       "0              11.01       10.0           3         2.70               1   \n",
       "1              11.45       13.7           3         3.70               1   \n",
       "2               7.32       12.2           5         3.29               0   \n",
       "3               8.86        6.6           7         1.78               2   \n",
       "4               8.41       10.1           3         2.73               3   \n",
       "...              ...        ...         ...          ...             ...   \n",
       "101169          2.28        6.2           2         2.62               2   \n",
       "101170         20.68        9.8           8         2.82               8   \n",
       "101171          2.26        2.8           6         2.22               2   \n",
       "101172         20.22        2.2           8         0.82               0   \n",
       "101173         28.80       20.0           8         2.20               2   \n",
       "\n",
       "        Churn  \n",
       "0       False  \n",
       "1       False  \n",
       "2       False  \n",
       "3       False  \n",
       "4       False  \n",
       "...       ...  \n",
       "101169  False  \n",
       "101170  False  \n",
       "101171  False  \n",
       "101172  False  \n",
       "101173  False  \n",
       "\n",
       "[101174 rows x 17 columns]"
      ]
     },
     "execution_count": 87,
     "metadata": {},
     "output_type": "execute_result"
    }
   ],
   "source": [
    "data = pd.read_csv(\"https://raw.githubusercontent.com/erdemsirel/ozu_data_science/master/M4%20-%20Applied%20Machine%20Learning%20-%20II/Call%20Details-Data.csv\")\n",
    "data"
   ]
  },
  {
   "cell_type": "code",
   "execution_count": 88,
   "metadata": {},
   "outputs": [],
   "source": [
    "var = data['Intl Charge']\n",
    "\n",
    "var1, var2 = train_test_split(var, test_size=0.33)"
   ]
  },
  {
   "cell_type": "code",
   "execution_count": 91,
   "metadata": {},
   "outputs": [],
   "source": [
    "d1 = Distribution(var1, bins=10)\n",
    "d2 = Distribution(var2, bins=10)"
   ]
  },
  {
   "cell_type": "code",
   "execution_count": 92,
   "metadata": {},
   "outputs": [
    {
     "data": {
      "text/plain": [
       "dict_keys(['bins', 'pdf_', 'cdf_', 'dist_q', 'dist_q_bins', 'stats', 'count', 'mean', 'std', 'min', '10%', '20%', '30%', '40%', '50%', '60%', '70%', '80%', '90%', 'max'])"
      ]
     },
     "execution_count": 92,
     "metadata": {},
     "output_type": "execute_result"
    }
   ],
   "source": [
    "d1"
   ]
  },
  {
   "cell_type": "code",
   "execution_count": 65,
   "metadata": {},
   "outputs": [
    {
     "data": {
      "text/plain": [
       "dict_keys(['bins', 'pdf_', 'cdf_', 'dist_q', 'dist_q_bins', 'stats'])"
      ]
     },
     "execution_count": 65,
     "metadata": {},
     "output_type": "execute_result"
    }
   ],
   "source": [
    "vars(d).keys()"
   ]
  },
  {
   "cell_type": "code",
   "execution_count": 4,
   "metadata": {},
   "outputs": [
    {
     "data": {
      "text/plain": [
       "NormaltestResult(statistic=7524.321635067164, pvalue=0.0)"
      ]
     },
     "execution_count": 4,
     "metadata": {},
     "output_type": "execute_result"
    }
   ],
   "source": [
    "normaltest(s)"
   ]
  },
  {
   "cell_type": "code",
   "execution_count": 216,
   "metadata": {},
   "outputs": [
    {
     "data": {
      "text/plain": [
       "KstestResult(statistic=0.020833735754297856, pvalue=0.43076170727755936)"
      ]
     },
     "execution_count": 216,
     "metadata": {},
     "output_type": "execute_result"
    }
   ],
   "source": [
    "kstest(X_test.mileage, X_train.mileage)"
   ]
  },
  {
   "cell_type": "code",
   "execution_count": 217,
   "metadata": {},
   "outputs": [
    {
     "data": {
      "text/plain": [
       "KstestResult(statistic=0.14415322580645162, pvalue=6.454171373044088e-49)"
      ]
     },
     "execution_count": 217,
     "metadata": {},
     "output_type": "execute_result"
    }
   ],
   "source": [
    "kstest(X_test.mileage, lambda x: metrics.cdf(x, X_train.mileage, bins=100))\n"
   ]
  },
  {
   "cell_type": "code",
   "execution_count": 218,
   "metadata": {},
   "outputs": [
    {
     "data": {
      "text/plain": [
       "KstestResult(statistic=0.14415322580645162, pvalue=2.0890080903811414e-90)"
      ]
     },
     "execution_count": 218,
     "metadata": {},
     "output_type": "execute_result"
    }
   ],
   "source": [
    "a = np.random.normal(X_train.mileage.mean(), X_train.mileage.std(), size=len(X_train.mileage))\n",
    "kstest(a, lambda x: metrics.cdf(x, X_train.mileage, bins=100))"
   ]
  },
  {
   "cell_type": "code",
   "execution_count": 219,
   "metadata": {},
   "outputs": [
    {
     "data": {
      "text/plain": [
       "KstestResult(statistic=0.1465725806451613, pvalue=7.260004093775498e-47)"
      ]
     },
     "execution_count": 219,
     "metadata": {},
     "output_type": "execute_result"
    }
   ],
   "source": [
    "kstest(a, X_train.mileage)"
   ]
  },
  {
   "cell_type": "code",
   "execution_count": 213,
   "metadata": {},
   "outputs": [
    {
     "data": {
      "text/plain": [
       "(-258.0, 51800.8]       0.875000\n",
       "(51800.8, 103600.6]     0.987702\n",
       "(103600.6, 155400.4]    0.998185\n",
       "(155400.4, 207200.2]    0.999597\n",
       "(207200.2, 259000.0]    1.000000\n",
       "Name: mileage, dtype: float64"
      ]
     },
     "execution_count": 213,
     "metadata": {},
     "output_type": "execute_result"
    }
   ],
   "source": [
    "X_train.mileage.value_counts(bins=5, normalize=True).sort_index().cumsum()"
   ]
  },
  {
   "cell_type": "code",
   "execution_count": 214,
   "metadata": {},
   "outputs": [
    {
     "name": "stdout",
     "output_type": "stream",
     "text": [
      "The autoreload extension is already loaded. To reload it, use:\n",
      "  %reload_ext autoreload\n"
     ]
    }
   ],
   "source": [
    "%load_ext autoreload\n",
    "%autoreload 2\n",
    "\n",
    "import metrics"
   ]
  },
  {
   "cell_type": "code",
   "execution_count": 121,
   "metadata": {},
   "outputs": [
    {
     "name": "stdout",
     "output_type": "stream",
     "text": [
      "0.010729790419147012\n",
      "0.005050798667441935\n",
      "0.011276652344032087\n",
      "True\n",
      "True\n",
      "None\n",
      "0.0033215917418785287\n"
     ]
    }
   ],
   "source": [
    "ref_var = X_train.engineSize\n",
    "var = X_test.engineSize\n",
    "print(metrics.abs_difference_of_means(ref_var, var))\n",
    "print(metrics.relative_abs_difference_of_means(ref_var, var))\n",
    "print(metrics.relative_wasserstein_varance(ref_var, var))\n",
    "print(metrics.is_var_within_z_threshold(ref_var, var, z_threshold=1))\n",
    "print(metrics.is_ks_successfull(ref_var, var))\n",
    "print(metrics.is_vars_normal(ref_var, var))\n",
    "print(metrics.psi(ref_var, var))\n"
   ]
  },
  {
   "cell_type": "code",
   "execution_count": 1,
   "metadata": {},
   "outputs": [
    {
     "ename": "NameError",
     "evalue": "name 'X_train' is not defined",
     "output_type": "error",
     "traceback": [
      "\u001b[0;31m---------------------------------------------------------------------------\u001b[0m",
      "\u001b[0;31mNameError\u001b[0m                                 Traceback (most recent call last)",
      "\u001b[0;32m<ipython-input-1-9d771e2afdf3>\u001b[0m in \u001b[0;36m<module>\u001b[0;34m\u001b[0m\n\u001b[0;32m----> 1\u001b[0;31m \u001b[0mX_train\u001b[0m\u001b[0;34m.\u001b[0m\u001b[0mdescribe\u001b[0m\u001b[0;34m(\u001b[0m\u001b[0;34m)\u001b[0m\u001b[0;34m\u001b[0m\u001b[0;34m\u001b[0m\u001b[0m\n\u001b[0m",
      "\u001b[0;31mNameError\u001b[0m: name 'X_train' is not defined"
     ]
    }
   ],
   "source": [
    "X_train.describe()"
   ]
  },
  {
   "cell_type": "code",
   "execution_count": 42,
   "metadata": {},
   "outputs": [
    {
     "data": {
      "text/html": [
       "<div>\n",
       "<style scoped>\n",
       "    .dataframe tbody tr th:only-of-type {\n",
       "        vertical-align: middle;\n",
       "    }\n",
       "\n",
       "    .dataframe tbody tr th {\n",
       "        vertical-align: top;\n",
       "    }\n",
       "\n",
       "    .dataframe thead th {\n",
       "        text-align: right;\n",
       "    }\n",
       "</style>\n",
       "<table border=\"1\" class=\"dataframe\">\n",
       "  <thead>\n",
       "    <tr style=\"text-align: right;\">\n",
       "      <th></th>\n",
       "      <th>carID</th>\n",
       "      <th>year</th>\n",
       "      <th>mileage</th>\n",
       "      <th>tax</th>\n",
       "      <th>mpg</th>\n",
       "      <th>engineSize</th>\n",
       "    </tr>\n",
       "  </thead>\n",
       "  <tbody>\n",
       "    <tr>\n",
       "      <th>count</th>\n",
       "      <td>2672.000000</td>\n",
       "      <td>2672.000000</td>\n",
       "      <td>2672.000000</td>\n",
       "      <td>2672.000000</td>\n",
       "      <td>2672.000000</td>\n",
       "      <td>2672.000000</td>\n",
       "    </tr>\n",
       "    <tr>\n",
       "      <th>mean</th>\n",
       "      <td>15784.043039</td>\n",
       "      <td>2016.720434</td>\n",
       "      <td>24617.528443</td>\n",
       "      <td>153.261602</td>\n",
       "      <td>49.787275</td>\n",
       "      <td>2.135105</td>\n",
       "    </tr>\n",
       "    <tr>\n",
       "      <th>std</th>\n",
       "      <td>2197.045979</td>\n",
       "      <td>2.898906</td>\n",
       "      <td>23142.032992</td>\n",
       "      <td>80.742530</td>\n",
       "      <td>35.269981</td>\n",
       "      <td>0.768596</td>\n",
       "    </tr>\n",
       "    <tr>\n",
       "      <th>min</th>\n",
       "      <td>12000.000000</td>\n",
       "      <td>1970.000000</td>\n",
       "      <td>1.000000</td>\n",
       "      <td>0.000000</td>\n",
       "      <td>2.800000</td>\n",
       "      <td>0.000000</td>\n",
       "    </tr>\n",
       "    <tr>\n",
       "      <th>25%</th>\n",
       "      <td>13889.750000</td>\n",
       "      <td>2016.000000</td>\n",
       "      <td>6000.000000</td>\n",
       "      <td>145.000000</td>\n",
       "      <td>37.700000</td>\n",
       "      <td>1.600000</td>\n",
       "    </tr>\n",
       "    <tr>\n",
       "      <th>50%</th>\n",
       "      <td>15777.500000</td>\n",
       "      <td>2017.000000</td>\n",
       "      <td>18548.000000</td>\n",
       "      <td>145.000000</td>\n",
       "      <td>47.100000</td>\n",
       "      <td>2.000000</td>\n",
       "    </tr>\n",
       "    <tr>\n",
       "      <th>75%</th>\n",
       "      <td>17661.500000</td>\n",
       "      <td>2019.000000</td>\n",
       "      <td>36272.250000</td>\n",
       "      <td>160.000000</td>\n",
       "      <td>54.300000</td>\n",
       "      <td>2.800000</td>\n",
       "    </tr>\n",
       "    <tr>\n",
       "      <th>max</th>\n",
       "      <td>19631.000000</td>\n",
       "      <td>2020.000000</td>\n",
       "      <td>167054.000000</td>\n",
       "      <td>580.000000</td>\n",
       "      <td>470.800000</td>\n",
       "      <td>6.300000</td>\n",
       "    </tr>\n",
       "  </tbody>\n",
       "</table>\n",
       "</div>"
      ],
      "text/plain": [
       "              carID         year        mileage          tax          mpg  \\\n",
       "count   2672.000000  2672.000000    2672.000000  2672.000000  2672.000000   \n",
       "mean   15784.043039  2016.720434   24617.528443   153.261602    49.787275   \n",
       "std     2197.045979     2.898906   23142.032992    80.742530    35.269981   \n",
       "min    12000.000000  1970.000000       1.000000     0.000000     2.800000   \n",
       "25%    13889.750000  2016.000000    6000.000000   145.000000    37.700000   \n",
       "50%    15777.500000  2017.000000   18548.000000   145.000000    47.100000   \n",
       "75%    17661.500000  2019.000000   36272.250000   160.000000    54.300000   \n",
       "max    19631.000000  2020.000000  167054.000000   580.000000   470.800000   \n",
       "\n",
       "        engineSize  \n",
       "count  2672.000000  \n",
       "mean      2.135105  \n",
       "std       0.768596  \n",
       "min       0.000000  \n",
       "25%       1.600000  \n",
       "50%       2.000000  \n",
       "75%       2.800000  \n",
       "max       6.300000  "
      ]
     },
     "execution_count": 42,
     "metadata": {},
     "output_type": "execute_result"
    }
   ],
   "source": [
    "X_test.describe()"
   ]
  },
  {
   "cell_type": "code",
   "execution_count": 101,
   "metadata": {},
   "outputs": [
    {
     "data": {
      "text/plain": [
       "<AxesSubplot:>"
      ]
     },
     "execution_count": 101,
     "metadata": {},
     "output_type": "execute_result"
    },
    {
     "data": {
      "image/png": "[encoded data removed]",
      "text/plain": [
       "<Figure size 432x288 with 1 Axes>"
      ]
     },
     "metadata": {
      "needs_background": "light"
     },
     "output_type": "display_data"
    }
   ],
   "source": [
    "ref_var.hist()"
   ]
  },
  {
   "cell_type": "code",
   "execution_count": 110,
   "metadata": {},
   "outputs": [],
   "source": [
    "ref_dist, ref_dist_bins = pd.cut(ref_var, 10, retbins=True)\n",
    "ref_dist = ref_dist.value_counts(normalize=True)"
   ]
  },
  {
   "cell_type": "code",
   "execution_count": 113,
   "metadata": {},
   "outputs": [],
   "source": [
    "var_dist = pd.cut(var, bins=ref_dist_bins).value_counts(normalize=True)"
   ]
  },
  {
   "cell_type": "code",
   "execution_count": 120,
   "metadata": {},
   "outputs": [
    {
     "data": {
      "text/plain": [
       "0.0033215917418785287"
      ]
     },
     "execution_count": 120,
     "metadata": {},
     "output_type": "execute_result"
    }
   ],
   "source": [
    "PSI=((var_dist - ref_dist) * np.log(var_dist / ref_dist)).sum()\n",
    "PSI"
   ]
  },
  {
   "cell_type": "code",
   "execution_count": 118,
   "metadata": {},
   "outputs": [
    {
     "data": {
      "text/plain": [
       "(-0.0066, 0.66]    0.107753\n",
       "(0.66, 1.32]      -0.114357\n",
       "(1.32, 1.98]      -0.006902\n",
       "(1.98, 2.64]       0.023391\n",
       "(2.64, 3.3]        0.020913\n",
       "(3.3, 3.96]       -0.228719\n",
       "(3.96, 4.62]       0.048034\n",
       "(4.62, 5.28]       0.002392\n",
       "(5.28, 5.94]      -0.680704\n",
       "(5.94, 6.6]       -0.990859\n",
       "Name: engineSize, dtype: float64"
      ]
     },
     "execution_count": 118,
     "metadata": {},
     "output_type": "execute_result"
    }
   ],
   "source": [
    "np.log(var_dist / ref_dist)"
   ]
  },
  {
   "cell_type": "code",
   "execution_count": 130,
   "metadata": {},
   "outputs": [
    {
     "data": {
      "text/plain": [
       "(1.6, 2.0]    0.340128\n",
       "(0.0, 1.6]    0.268026\n",
       "(2.8, 6.6]    0.251793\n",
       "(2.0, 2.8]    0.140053\n",
       "Name: engineSize, dtype: float64"
      ]
     },
     "execution_count": 130,
     "metadata": {},
     "output_type": "execute_result"
    }
   ],
   "source": [
    "ref_dist, ref_dist_bins = pd.qcut(ref_var, 4, retbins=True)\n",
    "ref_dist = ref_dist.value_counts(normalize=True)\n",
    "\n",
    "var_dist = pd.cut(var, bins=ref_dist_bins).value_counts(normalize=True)\n",
    "var_dist"
   ]
  },
  {
   "cell_type": "code",
   "execution_count": 139,
   "metadata": {},
   "outputs": [
    {
     "data": {
      "text/plain": [
       "(0          (2.0, 2.8]\n",
       " 1          (1.6, 2.0]\n",
       " 2          (2.8, 6.6]\n",
       " 3          (1.6, 2.0]\n",
       " 4       (-0.001, 1.6]\n",
       "             ...      \n",
       " 4955       (2.0, 2.8]\n",
       " 4956       (2.8, 6.6]\n",
       " 4957       (1.6, 2.0]\n",
       " 4958       (2.8, 6.6]\n",
       " 4959       (2.8, 6.6]\n",
       " Name: engineSize, Length: 4960, dtype: category\n",
       " Categories (4, interval[float64, right]): [(-0.001, 1.6] < (1.6, 2.0] < (2.0, 2.8] < (2.8, 6.6]],\n",
       " array([0. , 1.6, 2. , 2.8, 6.6]))"
      ]
     },
     "execution_count": 139,
     "metadata": {},
     "output_type": "execute_result"
    }
   ],
   "source": [
    "def cdf(x, X):\n",
    "    pd.qcut(ref_var, 4, retbins=True)"
   ]
  },
  {
   "cell_type": "code",
   "execution_count": 155,
   "metadata": {},
   "outputs": [
    {
     "data": {
      "text/plain": [
       "0.7487903225806452"
      ]
     },
     "execution_count": 155,
     "metadata": {},
     "output_type": "execute_result"
    }
   ],
   "source": [
    "ref_var.value_counts(bins=10, normalize=True).sort_index().cumsum().loc[2]"
   ]
  },
  {
   "cell_type": "code",
   "execution_count": 159,
   "metadata": {},
   "outputs": [
    {
     "data": {
      "text/plain": [
       "(-0.0076, 0.66]    0.008065\n",
       "(0.66, 1.32]       0.121774\n",
       "(1.32, 1.98]       0.355040\n",
       "(1.98, 2.64]       0.748790\n",
       "(2.64, 3.3]        0.962097\n",
       "(3.3, 3.96]        0.963508\n",
       "(3.96, 4.62]       0.986694\n",
       "(4.62, 5.28]       0.996774\n",
       "(5.28, 5.94]       0.998992\n",
       "(5.94, 6.6]        1.000000\n",
       "Name: engineSize, dtype: float64"
      ]
     },
     "execution_count": 159,
     "metadata": {},
     "output_type": "execute_result"
    }
   ],
   "source": [
    "pdf_ = ref_var.value_counts(bins=10, normalize=True).sort_index().cumsum()\n",
    "a.iloc[a.index.get_loc(5)]"
   ]
  },
  {
   "cell_type": "code",
   "execution_count": 164,
   "metadata": {},
   "outputs": [
    {
     "data": {
      "text/plain": [
       "0.9967741935483873"
      ]
     },
     "execution_count": 164,
     "metadata": {},
     "output_type": "execute_result"
    }
   ],
   "source": []
  },
  {
   "cell_type": "code",
   "execution_count": null,
   "metadata": {},
   "outputs": [],
   "source": []
  }
 ],
 "metadata": {
  "interpreter": {
   "hash": "ac710433cbfb7fdcf11f6366aa179f070fe14dd554ca2d995d6327f5a2195ade"
  },
  "kernelspec": {
   "display_name": "Python 3.8.5 ('base')",
   "language": "python",
   "name": "python3"
  },
  "language_info": {
   "codemirror_mode": {
    "name": "ipython",
    "version": 3
   },
   "file_extension": ".py",
   "mimetype": "text/x-python",
   "name": "python",
   "nbconvert_exporter": "python",
   "pygments_lexer": "ipython3",
   "version": "3.8.8"
  },
  "orig_nbformat": 4
 },
 "nbformat": 4,
 "nbformat_minor": 2
}

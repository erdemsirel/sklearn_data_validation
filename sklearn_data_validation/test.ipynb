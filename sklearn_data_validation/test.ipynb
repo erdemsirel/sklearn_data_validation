{
 "cells": [
  {
   "cell_type": "code",
   "execution_count": 3,
   "metadata": {},
   "outputs": [
    {
     "name": "stdout",
     "output_type": "stream",
     "text": [
      "The autoreload extension is already loaded. To reload it, use:\n",
      "  %reload_ext autoreload\n"
     ]
    }
   ],
   "source": [
    "%load_ext autoreload\n",
    "%autoreload 2\n",
    "import pandas as pd\n",
    "import numpy as np\n",
    "from scipy.stats import kstest, ks_2samp, t, normaltest, norm, chisquare\n",
    "import matplotlib.pyplot as plt\n",
    "from sklearn.preprocessing import MinMaxScaler\n",
    "from sklearn.model_selection import train_test_split\n",
    "from distribution import Distribution\n",
    "from feature_matrix import FeatureMatrix\n",
    "from data_validator import DataValidator\n",
    "import metrics\n",
    "import logging\n",
    "\n",
    "logging.basicConfig(\n",
    "     level=logging.INFO, \n",
    "     format= '%(asctime)s : %(levelname)s : %(message)s'\n",
    "     )\n",
    "logger = logging.getLogger()\n",
    " "
   ]
  },
  {
   "cell_type": "code",
   "execution_count": 4,
   "metadata": {},
   "outputs": [
    {
     "data": {
      "text/html": [
       "<div>\n",
       "<style scoped>\n",
       "    .dataframe tbody tr th:only-of-type {\n",
       "        vertical-align: middle;\n",
       "    }\n",
       "\n",
       "    .dataframe tbody tr th {\n",
       "        vertical-align: top;\n",
       "    }\n",
       "\n",
       "    .dataframe thead th {\n",
       "        text-align: right;\n",
       "    }\n",
       "</style>\n",
       "<table border=\"1\" class=\"dataframe\">\n",
       "  <thead>\n",
       "    <tr style=\"text-align: right;\">\n",
       "      <th></th>\n",
       "      <th>Phone Number</th>\n",
       "      <th>Account Length</th>\n",
       "      <th>VMail Message</th>\n",
       "      <th>Day Mins</th>\n",
       "      <th>Day Calls</th>\n",
       "      <th>Day Charge</th>\n",
       "      <th>Eve Mins</th>\n",
       "      <th>Eve Calls</th>\n",
       "      <th>Eve Charge</th>\n",
       "      <th>Night Mins</th>\n",
       "      <th>Night Calls</th>\n",
       "      <th>Night Charge</th>\n",
       "      <th>Intl Mins</th>\n",
       "      <th>Intl Calls</th>\n",
       "      <th>Intl Charge</th>\n",
       "      <th>CustServ Calls</th>\n",
       "      <th>Churn</th>\n",
       "    </tr>\n",
       "  </thead>\n",
       "  <tbody>\n",
       "    <tr>\n",
       "      <th>0</th>\n",
       "      <td>382-4657</td>\n",
       "      <td>128</td>\n",
       "      <td>25</td>\n",
       "      <td>265.1</td>\n",
       "      <td>110</td>\n",
       "      <td>45.07</td>\n",
       "      <td>197.4</td>\n",
       "      <td>99</td>\n",
       "      <td>16.78</td>\n",
       "      <td>244.7</td>\n",
       "      <td>91</td>\n",
       "      <td>11.01</td>\n",
       "      <td>10.0</td>\n",
       "      <td>3</td>\n",
       "      <td>2.7</td>\n",
       "      <td>1</td>\n",
       "      <td>False</td>\n",
       "    </tr>\n",
       "  </tbody>\n",
       "</table>\n",
       "</div>"
      ],
      "text/plain": [
       "  Phone Number  Account Length  VMail Message  Day Mins  Day Calls  \\\n",
       "0     382-4657             128             25     265.1        110   \n",
       "\n",
       "   Day Charge  Eve Mins  Eve Calls  Eve Charge  Night Mins  Night Calls  \\\n",
       "0       45.07     197.4         99       16.78       244.7           91   \n",
       "\n",
       "   Night Charge  Intl Mins  Intl Calls  Intl Charge  CustServ Calls  Churn  \n",
       "0         11.01       10.0           3          2.7               1  False  "
      ]
     },
     "execution_count": 4,
     "metadata": {},
     "output_type": "execute_result"
    }
   ],
   "source": [
    "data = pd.read_csv(\"https://raw.githubusercontent.com/erdemsirel/ozu_data_science/master/M4%20-%20Applied%20Machine%20Learning%20-%20II/Call%20Details-Data.csv\")\n",
    "data.head(1)"
   ]
  },
  {
   "cell_type": "code",
   "execution_count": 5,
   "metadata": {},
   "outputs": [],
   "source": [
    "data1, data2 = train_test_split(data, test_size=0.33, random_state=35)"
   ]
  },
  {
   "cell_type": "code",
   "execution_count": 6,
   "metadata": {},
   "outputs": [
    {
     "name": "stderr",
     "output_type": "stream",
     "text": [
      "2022-05-11 00:17:58,754 : WARNING : Cannot create Distribution object for VMail Message.\n",
      "2022-05-11 00:17:59,054 : WARNING : Cannot create Distribution object for Intl Calls.\n",
      "2022-05-11 00:17:59,090 : WARNING : Cannot create Distribution object for CustServ Calls.\n",
      "2022-05-11 00:17:59,100 : INFO : The DataValidator instance has been saved as pickle into test.pkl path.\n",
      "2022-05-11 00:17:59,117 : INFO : The DataValidator instance has been loaded from test.pkl path.\n",
      "/Users/dh05ju/opt/anaconda3/lib/python3.8/site-packages/pandas/core/arraylike.py:397: RuntimeWarning: divide by zero encountered in log\n",
      "  result = getattr(ufunc, method)(*inputs, **kwargs)\n"
     ]
    },
    {
     "name": "stdout",
     "output_type": "stream",
     "text": [
      "(-90.791, 11129.381]       0.98778\n",
      "(11129.381, 22238.462]     0.01222\n",
      "(22238.462, 33347.543]     0.00000\n",
      "(33347.543, 44456.624]     0.00000\n",
      "(44456.624, 55565.705]     0.00000\n",
      "(55565.705, 66674.786]     0.00000\n",
      "(66674.786, 77783.867]     0.00000\n",
      "(77783.867, 88892.948]     0.00000\n",
      "(88892.948, 100002.029]    0.00000\n",
      "(100002.029, 111111.11]    0.00000\n",
      "Name: Night Mins, dtype: float64\n",
      "(-90.791, 11129.381]       0.988375\n",
      "(11129.381, 22238.462]     0.011566\n",
      "(22238.462, 33347.543]     0.000000\n",
      "(33347.543, 44456.624]     0.000000\n",
      "(44456.624, 55565.705]     0.000000\n",
      "(55565.705, 66674.786]     0.000000\n",
      "(66674.786, 77783.867]     0.000000\n",
      "(77783.867, 88892.948]     0.000000\n",
      "(88892.948, 100002.029]    0.000000\n",
      "(100002.029, 111111.11]    0.000059\n",
      "Name: Night Mins, dtype: float64\n"
     ]
    },
    {
     "name": "stderr",
     "output_type": "stream",
     "text": [
      "2022-05-11 00:18:46,777 : INFO : Feature Matrix metrics\n",
      "|                | chisquare_pvalue   | kstest_pvalue   | missing_val_rat_rel_diff   | psi     | rel_abs_diff_of_means   | z_score_abs   |   failed_test_count | success   |\n",
      "|:---------------|:-------------------|:----------------|:---------------------------|:--------|:------------------------|:--------------|--------------------:|:----------|\n",
      "| Night Mins     | ✓ 1.0              | ✓ 0.0           | ✓ 0.0                      | X inf   | ✓ 0.012                 | ✓ 0.003       |                   1 | X         |\n",
      "| Account Length | ✓ 1.0              | ✓ 0.0           | ✓ 0.0                      | ✓ 0.0   | ✓ 0.005                 | ✓ 0.001       |                   0 | ✓         |\n",
      "| Day Mins       | ✓ 1.0              | ✓ 0.0           | ✓ 0.0                      | ✓ 0.0   | ✓ 0.058                 | ✓ 0.016       |                   0 | ✓         |\n",
      "| Day Calls      | ✓ 1.0              | ✓ 0.0           | ✓ 0.0                      | ✓ 0.0   | ✓ 0.015                 | ✓ 0.004       |                   0 | ✓         |\n",
      "| Day Charge     | ✓ 1.0              | ✓ 0.0           | ✓ 0.0                      | ✓ 0.0   | ✓ 0.002                 | ✓ 0.001       |                   0 | ✓         |\n",
      "| Eve Mins       | ✓ 1.0              | ✓ 0.0           | ✓ 0.0                      | ✓ 0.0   | ✓ 0.002                 | ✓ 0.001       |                   0 | ✓         |\n",
      "| Eve Calls      | ✓ 1.0              | ✓ 0.0           | ✓ 0.0                      | ✓ 0.0   | ✓ 0.014                 | ✓ 0.004       |                   0 | ✓         |\n",
      "| Eve Charge     | ✓ 1.0              | ✓ 0.0           | ✓ 0.0                      | ✓ 0.0   | ✓ 0.0                   | ✓ 0.0         |                   0 | ✓         |\n",
      "| Night Calls    | ✓ 1.0              | ✓ 0.0           | ✓ 0.0                      | ✓ 0.0   | ✓ 0.016                 | ✓ 0.005       |                   0 | ✓         |\n",
      "| Night Charge   | ✓ 1.0              | ✓ 0.0           | ✓ 0.0                      | ✓ 0.0   | ✓ 0.0                   | ✓ 0.0         |                   0 | ✓         |\n",
      "| Intl Mins      | ✓ 1.0              | ✓ 0.0           | ✓ 0.0                      | ✓ 0.0   | ✓ 0.005                 | ✓ 0.004       |                   0 | ✓         |\n",
      "| Intl Charge    | ✓ 1.0              | ✓ 0.0           | ✓ 0.0                      | ✓ 0.001 | ✓ 0.004                 | ✓ 0.007       |                   0 | ✓         |\n",
      "/Users/dh05ju/opt/anaconda3/lib/python3.8/site-packages/pandas/core/arraylike.py:397: RuntimeWarning: divide by zero encountered in log\n",
      "  result = getattr(ufunc, method)(*inputs, **kwargs)\n"
     ]
    },
    {
     "name": "stdout",
     "output_type": "stream",
     "text": [
      "(-111.111, 11111.111]     1.0\n",
      "(11111.111, 22222.222]    0.0\n",
      "(22222.222, 33333.333]    0.0\n",
      "(33333.333, 44444.444]    0.0\n",
      "(44444.444, 55555.555]    0.0\n",
      "(55555.555, 66666.666]    0.0\n",
      "(66666.666, 77777.777]    0.0\n",
      "(77777.777, 88888.888]    0.0\n",
      "(88888.888, 99999.999]    0.0\n",
      "(99999.999, 111111.11]    0.0\n",
      "Name: Day Mins, dtype: float64\n",
      "(-111.111, 11111.111]     0.990662\n",
      "(11111.111, 22222.222]    0.009323\n",
      "(22222.222, 33333.333]    0.000000\n",
      "(33333.333, 44444.444]    0.000000\n",
      "(44444.444, 55555.555]    0.000000\n",
      "(55555.555, 66666.666]    0.000000\n",
      "(66666.666, 77777.777]    0.000000\n",
      "(77777.777, 88888.888]    0.000000\n",
      "(88888.888, 99999.999]    0.000000\n",
      "(99999.999, 111111.11]    0.000015\n",
      "Name: Day Mins, dtype: float64\n"
     ]
    },
    {
     "name": "stderr",
     "output_type": "stream",
     "text": [
      "/Users/dh05ju/opt/anaconda3/lib/python3.8/site-packages/pandas/core/arraylike.py:397: RuntimeWarning: divide by zero encountered in log\n",
      "  result = getattr(ufunc, method)(*inputs, **kwargs)\n"
     ]
    },
    {
     "name": "stdout",
     "output_type": "stream",
     "text": [
      "(-90.791, 11129.381]       0.98778\n",
      "(11129.381, 22238.462]     0.01222\n",
      "(22238.462, 33347.543]     0.00000\n",
      "(33347.543, 44456.624]     0.00000\n",
      "(44456.624, 55565.705]     0.00000\n",
      "(55565.705, 66674.786]     0.00000\n",
      "(66674.786, 77783.867]     0.00000\n",
      "(77783.867, 88892.948]     0.00000\n",
      "(88892.948, 100002.029]    0.00000\n",
      "(100002.029, 111111.11]    0.00000\n",
      "Name: Night Mins, dtype: float64\n",
      "(-90.791, 11129.381]       0.988375\n",
      "(11129.381, 22238.462]     0.011566\n",
      "(22238.462, 33347.543]     0.000000\n",
      "(33347.543, 44456.624]     0.000000\n",
      "(44456.624, 55565.705]     0.000000\n",
      "(55565.705, 66674.786]     0.000000\n",
      "(66674.786, 77783.867]     0.000000\n",
      "(77783.867, 88892.948]     0.000000\n",
      "(88892.948, 100002.029]    0.000000\n",
      "(100002.029, 111111.11]    0.000059\n",
      "Name: Night Mins, dtype: float64\n"
     ]
    },
    {
     "name": "stderr",
     "output_type": "stream",
     "text": [
      "2022-05-11 00:19:35,542 : INFO : Feature Matrix metrics\n",
      "|                | chisquare_pvalue   | kstest_pvalue   | missing_val_rat_rel_diff   | psi     | rel_abs_diff_of_means   | z_score_abs   |   failed_test_count | success   |\n",
      "|:---------------|:-------------------|:----------------|:---------------------------|:--------|:------------------------|:--------------|--------------------:|:----------|\n",
      "| Day Mins       | ✓ 0.508            | ✓ 0.0           | ✓ 0.0                      | X inf   | ✓ 0.999                 | ✓ 0.278       |                   1 | X         |\n",
      "| Night Mins     | ✓ 1.0              | ✓ 0.0           | ✓ 0.0                      | X inf   | ✓ 0.012                 | ✓ 0.003       |                   1 | X         |\n",
      "| Account Length | ✓ 1.0              | ✓ 0.0           | ✓ 0.0                      | ✓ 0.0   | ✓ 0.005                 | ✓ 0.001       |                   0 | ✓         |\n",
      "| Day Calls      | ✓ 1.0              | ✓ 0.0           | ✓ 0.0                      | ✓ 0.0   | ✓ 0.015                 | ✓ 0.004       |                   0 | ✓         |\n",
      "| Day Charge     | ✓ 1.0              | ✓ 0.0           | ✓ 0.0                      | ✓ 0.0   | ✓ 0.002                 | ✓ 0.001       |                   0 | ✓         |\n",
      "| Eve Mins       | ✓ 1.0              | ✓ 0.0           | ✓ 0.0                      | ✓ 0.0   | ✓ 0.002                 | ✓ 0.001       |                   0 | ✓         |\n",
      "| Eve Calls      | ✓ 1.0              | ✓ 0.0           | ✓ 0.0                      | ✓ 0.0   | ✓ 0.014                 | ✓ 0.004       |                   0 | ✓         |\n",
      "| Eve Charge     | ✓ 1.0              | ✓ 0.0           | ✓ 0.0                      | ✓ 0.0   | ✓ 0.0                   | ✓ 0.0         |                   0 | ✓         |\n",
      "| Night Calls    | ✓ 1.0              | ✓ 0.0           | ✓ 0.0                      | ✓ 0.0   | ✓ 0.016                 | ✓ 0.005       |                   0 | ✓         |\n",
      "| Night Charge   | ✓ 1.0              | ✓ 0.0           | ✓ 0.0                      | ✓ 0.0   | ✓ 0.0                   | ✓ 0.0         |                   0 | ✓         |\n",
      "| Intl Mins      | ✓ 1.0              | ✓ 0.0           | ✓ 0.0                      | ✓ 0.0   | ✓ 0.005                 | ✓ 0.004       |                   0 | ✓         |\n",
      "| Intl Charge    | ✓ 1.0              | ✓ 0.0           | ✓ 0.0                      | ✓ 0.001 | ✓ 0.004                 | ✓ 0.007       |                   0 | ✓         |\n"
     ]
    }
   ],
   "source": [
    "dv = DataValidator(bins=10, only_unsuccessfull=False)\n",
    "dv.fit(data1)\n",
    "dv.to_pickle(\"test.pkl\")\n",
    "\n",
    "dv = DataValidator.read_pickle(\"test.pkl\")\n",
    "\n",
    "metrics_1 = dv.transform(data2)\n",
    "\n",
    "data2_ = data2.copy()\n",
    "data2_[\"Day Mins\"] = np.random.random(size=len(data2_))\n",
    "metrics_2 = dv.transform(data2_)\n",
    "# dv.feature_matrix.plot_attr(attr=\"pdf_\")"
   ]
  },
  {
   "cell_type": "code",
   "execution_count": 7,
   "metadata": {},
   "outputs": [
    {
     "data": {
      "text/html": [
       "<div>\n",
       "<style scoped>\n",
       "    .dataframe tbody tr th:only-of-type {\n",
       "        vertical-align: middle;\n",
       "    }\n",
       "\n",
       "    .dataframe tbody tr th {\n",
       "        vertical-align: top;\n",
       "    }\n",
       "\n",
       "    .dataframe thead th {\n",
       "        text-align: right;\n",
       "    }\n",
       "</style>\n",
       "<table border=\"1\" class=\"dataframe\">\n",
       "  <thead>\n",
       "    <tr style=\"text-align: right;\">\n",
       "      <th></th>\n",
       "      <th>chisquare_pvalue</th>\n",
       "      <th>chisquare_pvalue_result</th>\n",
       "      <th>kstest_pvalue</th>\n",
       "      <th>kstest_pvalue_result</th>\n",
       "      <th>missing_val_rat_rel_diff</th>\n",
       "      <th>missing_val_rat_rel_diff_result</th>\n",
       "      <th>psi</th>\n",
       "      <th>psi_result</th>\n",
       "      <th>rel_abs_diff_of_means</th>\n",
       "      <th>rel_abs_diff_of_means_result</th>\n",
       "      <th>z_score_abs</th>\n",
       "      <th>z_score_abs_result</th>\n",
       "      <th>failed_test_count</th>\n",
       "      <th>success</th>\n",
       "    </tr>\n",
       "  </thead>\n",
       "  <tbody>\n",
       "    <tr>\n",
       "      <th>Day Mins</th>\n",
       "      <td>0.507758</td>\n",
       "      <td>True</td>\n",
       "      <td>0.0</td>\n",
       "      <td>True</td>\n",
       "      <td>0.0</td>\n",
       "      <td>True</td>\n",
       "      <td>inf</td>\n",
       "      <td>False</td>\n",
       "      <td>0.999134</td>\n",
       "      <td>True</td>\n",
       "      <td>0.277901</td>\n",
       "      <td>True</td>\n",
       "      <td>1</td>\n",
       "      <td>False</td>\n",
       "    </tr>\n",
       "    <tr>\n",
       "      <th>Night Mins</th>\n",
       "      <td>1.000000</td>\n",
       "      <td>True</td>\n",
       "      <td>0.0</td>\n",
       "      <td>True</td>\n",
       "      <td>0.0</td>\n",
       "      <td>True</td>\n",
       "      <td>inf</td>\n",
       "      <td>False</td>\n",
       "      <td>0.011569</td>\n",
       "      <td>True</td>\n",
       "      <td>0.003109</td>\n",
       "      <td>True</td>\n",
       "      <td>1</td>\n",
       "      <td>False</td>\n",
       "    </tr>\n",
       "    <tr>\n",
       "      <th>Account Length</th>\n",
       "      <td>1.000000</td>\n",
       "      <td>True</td>\n",
       "      <td>0.0</td>\n",
       "      <td>True</td>\n",
       "      <td>0.0</td>\n",
       "      <td>True</td>\n",
       "      <td>4.199568e-07</td>\n",
       "      <td>True</td>\n",
       "      <td>0.004920</td>\n",
       "      <td>True</td>\n",
       "      <td>0.001122</td>\n",
       "      <td>True</td>\n",
       "      <td>0</td>\n",
       "      <td>True</td>\n",
       "    </tr>\n",
       "    <tr>\n",
       "      <th>Day Calls</th>\n",
       "      <td>1.000000</td>\n",
       "      <td>True</td>\n",
       "      <td>0.0</td>\n",
       "      <td>True</td>\n",
       "      <td>0.0</td>\n",
       "      <td>True</td>\n",
       "      <td>5.682821e-05</td>\n",
       "      <td>True</td>\n",
       "      <td>0.015469</td>\n",
       "      <td>True</td>\n",
       "      <td>0.004454</td>\n",
       "      <td>True</td>\n",
       "      <td>0</td>\n",
       "      <td>True</td>\n",
       "    </tr>\n",
       "    <tr>\n",
       "      <th>Day Charge</th>\n",
       "      <td>1.000000</td>\n",
       "      <td>True</td>\n",
       "      <td>0.0</td>\n",
       "      <td>True</td>\n",
       "      <td>0.0</td>\n",
       "      <td>True</td>\n",
       "      <td>5.842725e-05</td>\n",
       "      <td>True</td>\n",
       "      <td>0.002328</td>\n",
       "      <td>True</td>\n",
       "      <td>0.001131</td>\n",
       "      <td>True</td>\n",
       "      <td>0</td>\n",
       "      <td>True</td>\n",
       "    </tr>\n",
       "    <tr>\n",
       "      <th>Eve Mins</th>\n",
       "      <td>1.000000</td>\n",
       "      <td>True</td>\n",
       "      <td>0.0</td>\n",
       "      <td>True</td>\n",
       "      <td>0.0</td>\n",
       "      <td>True</td>\n",
       "      <td>1.212549e-05</td>\n",
       "      <td>True</td>\n",
       "      <td>0.002364</td>\n",
       "      <td>True</td>\n",
       "      <td>0.000621</td>\n",
       "      <td>True</td>\n",
       "      <td>0</td>\n",
       "      <td>True</td>\n",
       "    </tr>\n",
       "    <tr>\n",
       "      <th>Eve Calls</th>\n",
       "      <td>0.999999</td>\n",
       "      <td>True</td>\n",
       "      <td>0.0</td>\n",
       "      <td>True</td>\n",
       "      <td>0.0</td>\n",
       "      <td>True</td>\n",
       "      <td>5.538117e-05</td>\n",
       "      <td>True</td>\n",
       "      <td>0.014445</td>\n",
       "      <td>True</td>\n",
       "      <td>0.004082</td>\n",
       "      <td>True</td>\n",
       "      <td>0</td>\n",
       "      <td>True</td>\n",
       "    </tr>\n",
       "    <tr>\n",
       "      <th>Eve Charge</th>\n",
       "      <td>1.000000</td>\n",
       "      <td>True</td>\n",
       "      <td>0.0</td>\n",
       "      <td>True</td>\n",
       "      <td>0.0</td>\n",
       "      <td>True</td>\n",
       "      <td>2.709080e-05</td>\n",
       "      <td>True</td>\n",
       "      <td>0.000479</td>\n",
       "      <td>True</td>\n",
       "      <td>0.000454</td>\n",
       "      <td>True</td>\n",
       "      <td>0</td>\n",
       "      <td>True</td>\n",
       "    </tr>\n",
       "    <tr>\n",
       "      <th>Night Calls</th>\n",
       "      <td>1.000000</td>\n",
       "      <td>True</td>\n",
       "      <td>0.0</td>\n",
       "      <td>True</td>\n",
       "      <td>0.0</td>\n",
       "      <td>True</td>\n",
       "      <td>2.765973e-05</td>\n",
       "      <td>True</td>\n",
       "      <td>0.015959</td>\n",
       "      <td>True</td>\n",
       "      <td>0.004783</td>\n",
       "      <td>True</td>\n",
       "      <td>0</td>\n",
       "      <td>True</td>\n",
       "    </tr>\n",
       "    <tr>\n",
       "      <th>Night Charge</th>\n",
       "      <td>1.000000</td>\n",
       "      <td>True</td>\n",
       "      <td>0.0</td>\n",
       "      <td>True</td>\n",
       "      <td>0.0</td>\n",
       "      <td>True</td>\n",
       "      <td>1.113510e-04</td>\n",
       "      <td>True</td>\n",
       "      <td>0.000405</td>\n",
       "      <td>True</td>\n",
       "      <td>0.000346</td>\n",
       "      <td>True</td>\n",
       "      <td>0</td>\n",
       "      <td>True</td>\n",
       "    </tr>\n",
       "    <tr>\n",
       "      <th>Intl Mins</th>\n",
       "      <td>1.000000</td>\n",
       "      <td>True</td>\n",
       "      <td>0.0</td>\n",
       "      <td>True</td>\n",
       "      <td>0.0</td>\n",
       "      <td>True</td>\n",
       "      <td>2.870476e-05</td>\n",
       "      <td>True</td>\n",
       "      <td>0.005149</td>\n",
       "      <td>True</td>\n",
       "      <td>0.004169</td>\n",
       "      <td>True</td>\n",
       "      <td>0</td>\n",
       "      <td>True</td>\n",
       "    </tr>\n",
       "    <tr>\n",
       "      <th>Intl Charge</th>\n",
       "      <td>1.000000</td>\n",
       "      <td>True</td>\n",
       "      <td>0.0</td>\n",
       "      <td>True</td>\n",
       "      <td>0.0</td>\n",
       "      <td>True</td>\n",
       "      <td>5.629496e-04</td>\n",
       "      <td>True</td>\n",
       "      <td>0.004473</td>\n",
       "      <td>True</td>\n",
       "      <td>0.007039</td>\n",
       "      <td>True</td>\n",
       "      <td>0</td>\n",
       "      <td>True</td>\n",
       "    </tr>\n",
       "  </tbody>\n",
       "</table>\n",
       "</div>"
      ],
      "text/plain": [
       "                chisquare_pvalue  chisquare_pvalue_result  kstest_pvalue  \\\n",
       "Day Mins                0.507758                     True            0.0   \n",
       "Night Mins              1.000000                     True            0.0   \n",
       "Account Length          1.000000                     True            0.0   \n",
       "Day Calls               1.000000                     True            0.0   \n",
       "Day Charge              1.000000                     True            0.0   \n",
       "Eve Mins                1.000000                     True            0.0   \n",
       "Eve Calls               0.999999                     True            0.0   \n",
       "Eve Charge              1.000000                     True            0.0   \n",
       "Night Calls             1.000000                     True            0.0   \n",
       "Night Charge            1.000000                     True            0.0   \n",
       "Intl Mins               1.000000                     True            0.0   \n",
       "Intl Charge             1.000000                     True            0.0   \n",
       "\n",
       "                kstest_pvalue_result  missing_val_rat_rel_diff  \\\n",
       "Day Mins                        True                       0.0   \n",
       "Night Mins                      True                       0.0   \n",
       "Account Length                  True                       0.0   \n",
       "Day Calls                       True                       0.0   \n",
       "Day Charge                      True                       0.0   \n",
       "Eve Mins                        True                       0.0   \n",
       "Eve Calls                       True                       0.0   \n",
       "Eve Charge                      True                       0.0   \n",
       "Night Calls                     True                       0.0   \n",
       "Night Charge                    True                       0.0   \n",
       "Intl Mins                       True                       0.0   \n",
       "Intl Charge                     True                       0.0   \n",
       "\n",
       "                missing_val_rat_rel_diff_result           psi  psi_result  \\\n",
       "Day Mins                                   True           inf       False   \n",
       "Night Mins                                 True           inf       False   \n",
       "Account Length                             True  4.199568e-07        True   \n",
       "Day Calls                                  True  5.682821e-05        True   \n",
       "Day Charge                                 True  5.842725e-05        True   \n",
       "Eve Mins                                   True  1.212549e-05        True   \n",
       "Eve Calls                                  True  5.538117e-05        True   \n",
       "Eve Charge                                 True  2.709080e-05        True   \n",
       "Night Calls                                True  2.765973e-05        True   \n",
       "Night Charge                               True  1.113510e-04        True   \n",
       "Intl Mins                                  True  2.870476e-05        True   \n",
       "Intl Charge                                True  5.629496e-04        True   \n",
       "\n",
       "                rel_abs_diff_of_means  rel_abs_diff_of_means_result  \\\n",
       "Day Mins                     0.999134                          True   \n",
       "Night Mins                   0.011569                          True   \n",
       "Account Length               0.004920                          True   \n",
       "Day Calls                    0.015469                          True   \n",
       "Day Charge                   0.002328                          True   \n",
       "Eve Mins                     0.002364                          True   \n",
       "Eve Calls                    0.014445                          True   \n",
       "Eve Charge                   0.000479                          True   \n",
       "Night Calls                  0.015959                          True   \n",
       "Night Charge                 0.000405                          True   \n",
       "Intl Mins                    0.005149                          True   \n",
       "Intl Charge                  0.004473                          True   \n",
       "\n",
       "                z_score_abs  z_score_abs_result  failed_test_count  success  \n",
       "Day Mins           0.277901                True                  1    False  \n",
       "Night Mins         0.003109                True                  1    False  \n",
       "Account Length     0.001122                True                  0     True  \n",
       "Day Calls          0.004454                True                  0     True  \n",
       "Day Charge         0.001131                True                  0     True  \n",
       "Eve Mins           0.000621                True                  0     True  \n",
       "Eve Calls          0.004082                True                  0     True  \n",
       "Eve Charge         0.000454                True                  0     True  \n",
       "Night Calls        0.004783                True                  0     True  \n",
       "Night Charge       0.000346                True                  0     True  \n",
       "Intl Mins          0.004169                True                  0     True  \n",
       "Intl Charge        0.007039                True                  0     True  "
      ]
     },
     "execution_count": 7,
     "metadata": {},
     "output_type": "execute_result"
    }
   ],
   "source": [
    "metrics_2"
   ]
  },
  {
   "cell_type": "code",
   "execution_count": null,
   "metadata": {},
   "outputs": [],
   "source": [
    "np.round((0.01 / (0.01 +0.00001)), 3)"
   ]
  },
  {
   "cell_type": "code",
   "execution_count": null,
   "metadata": {},
   "outputs": [],
   "source": [
    "a = metrics_2[[col for col in metrics_2.columns if not col.endswith(\"_result\")]].round(3)\n",
    "logger.info(\"\\n\"+a.to_markdown(), extra=a.to_dict())"
   ]
  },
  {
   "cell_type": "code",
   "execution_count": null,
   "metadata": {},
   "outputs": [],
   "source": [
    "c = [col for col in metrics_2.columns if not col.endswith(\"_result\")]\n",
    "for col in c:\n",
    "    if col+\"_result\" not in metrics_2.columns: continue\n",
    "    metrics_2[col] = metrics_2[col+\"_result\"].replace({True: \"✓\", False:\"X\"}) + \" \" +  metrics_2[col].round(3).astype(str)"
   ]
  },
  {
   "cell_type": "code",
   "execution_count": null,
   "metadata": {},
   "outputs": [],
   "source": [
    "metrics_2"
   ]
  },
  {
   "cell_type": "code",
   "execution_count": null,
   "metadata": {},
   "outputs": [],
   "source": [
    "(~metrics_2[[col for col in metrics_2.columns if col.endswith(\"_result\")]]).sum(axis=1)"
   ]
  },
  {
   "cell_type": "code",
   "execution_count": null,
   "metadata": {},
   "outputs": [],
   "source": [
    "metrics_.join(a, rsuffix='_result')"
   ]
  },
  {
   "cell_type": "code",
   "execution_count": null,
   "metadata": {},
   "outputs": [],
   "source": [
    "kstest(X_test.mileage, X_train.mileage)"
   ]
  },
  {
   "cell_type": "code",
   "execution_count": null,
   "metadata": {},
   "outputs": [],
   "source": [
    "kstest(X_test.mileage, lambda x: metrics.cdf(x, X_train.mileage, bins=100))\n"
   ]
  },
  {
   "cell_type": "code",
   "execution_count": null,
   "metadata": {},
   "outputs": [],
   "source": [
    "a = np.random.normal(X_train.mileage.mean(), X_train.mileage.std(), size=len(X_train.mileage))\n",
    "kstest(a, lambda x: metrics.cdf(x, X_train.mileage, bins=100))"
   ]
  },
  {
   "cell_type": "code",
   "execution_count": null,
   "metadata": {},
   "outputs": [],
   "source": [
    "kstest(a, X_train.mileage)"
   ]
  },
  {
   "cell_type": "code",
   "execution_count": null,
   "metadata": {},
   "outputs": [],
   "source": [
    "X_train.mileage.value_counts(bins=5, normalize=True).sort_index().cumsum()"
   ]
  },
  {
   "cell_type": "code",
   "execution_count": null,
   "metadata": {},
   "outputs": [],
   "source": [
    "%load_ext autoreload\n",
    "%autoreload 2\n",
    "\n",
    "import metrics"
   ]
  },
  {
   "cell_type": "code",
   "execution_count": null,
   "metadata": {},
   "outputs": [],
   "source": [
    "ref_var = X_train.engineSize\n",
    "var = X_test.engineSize\n",
    "print(metrics.abs_difference_of_means(ref_var, var))\n",
    "print(metrics.relative_abs_difference_of_means(ref_var, var))\n",
    "print(metrics.relative_wasserstein_varance(ref_var, var))\n",
    "print(metrics.is_var_within_z_threshold(ref_var, var, z_threshold=1))\n",
    "print(metrics.is_ks_successfull(ref_var, var))\n",
    "print(metrics.is_vars_normal(ref_var, var))\n",
    "print(metrics.psi(ref_var, var))\n"
   ]
  },
  {
   "cell_type": "code",
   "execution_count": null,
   "metadata": {},
   "outputs": [],
   "source": [
    "X_train.describe()"
   ]
  },
  {
   "cell_type": "code",
   "execution_count": null,
   "metadata": {},
   "outputs": [],
   "source": [
    "X_test.describe()"
   ]
  },
  {
   "cell_type": "code",
   "execution_count": null,
   "metadata": {},
   "outputs": [],
   "source": [
    "ref_var.hist()"
   ]
  },
  {
   "cell_type": "code",
   "execution_count": null,
   "metadata": {},
   "outputs": [],
   "source": [
    "ref_dist, ref_dist_bins = pd.cut(ref_var, 10, retbins=True)\n",
    "ref_dist = ref_dist.value_counts(normalize=True)"
   ]
  },
  {
   "cell_type": "code",
   "execution_count": null,
   "metadata": {},
   "outputs": [],
   "source": [
    "var_dist = pd.cut(var, bins=ref_dist_bins).value_counts(normalize=True)"
   ]
  },
  {
   "cell_type": "code",
   "execution_count": null,
   "metadata": {},
   "outputs": [],
   "source": [
    "PSI=((var_dist - ref_dist) * np.log(var_dist / ref_dist)).sum()\n",
    "PSI"
   ]
  },
  {
   "cell_type": "code",
   "execution_count": null,
   "metadata": {},
   "outputs": [],
   "source": [
    "np.log(var_dist / ref_dist)"
   ]
  },
  {
   "cell_type": "code",
   "execution_count": null,
   "metadata": {},
   "outputs": [],
   "source": [
    "ref_dist, ref_dist_bins = pd.qcut(ref_var, 4, retbins=True)\n",
    "ref_dist = ref_dist.value_counts(normalize=True)\n",
    "\n",
    "var_dist = pd.cut(var, bins=ref_dist_bins).value_counts(normalize=True)\n",
    "var_dist"
   ]
  },
  {
   "cell_type": "code",
   "execution_count": null,
   "metadata": {},
   "outputs": [],
   "source": [
    "def cdf(x, X):\n",
    "    pd.qcut(ref_var, 4, retbins=True)"
   ]
  },
  {
   "cell_type": "code",
   "execution_count": null,
   "metadata": {},
   "outputs": [],
   "source": [
    "ref_var.value_counts(bins=10, normalize=True).sort_index().cumsum().loc[2]"
   ]
  },
  {
   "cell_type": "code",
   "execution_count": null,
   "metadata": {},
   "outputs": [],
   "source": [
    "pdf_ = ref_var.value_counts(bins=10, normalize=True).sort_index().cumsum()\n",
    "a.iloc[a.index.get_loc(5)]"
   ]
  },
  {
   "cell_type": "code",
   "execution_count": null,
   "metadata": {},
   "outputs": [],
   "source": []
  },
  {
   "cell_type": "code",
   "execution_count": null,
   "metadata": {},
   "outputs": [],
   "source": []
  }
 ],
 "metadata": {
  "interpreter": {
   "hash": "ac710433cbfb7fdcf11f6366aa179f070fe14dd554ca2d995d6327f5a2195ade"
  },
  "kernelspec": {
   "display_name": "Python 3",
   "language": "python",
   "name": "python3"
  },
  "language_info": {
   "codemirror_mode": {
    "name": "ipython",
    "version": 3
   },
   "file_extension": ".py",
   "mimetype": "text/x-python",
   "name": "python",
   "nbconvert_exporter": "python",
   "pygments_lexer": "ipython3",
   "version": "3.8.8"
  },
  "orig_nbformat": 4
 },
 "nbformat": 4,
 "nbformat_minor": 2
}

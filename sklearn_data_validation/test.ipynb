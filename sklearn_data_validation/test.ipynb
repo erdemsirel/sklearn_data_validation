{
 "cells": [
  {
   "cell_type": "code",
   "execution_count": 132,
   "metadata": {},
   "outputs": [],
   "source": [
    "import pandas as pd\n",
    "import numpy as np\n",
    "from scipy.stats import kstest, ks_2samp, t, normaltest, norm, chisquare\n",
    "import matplotlib.pyplot as plt\n",
    "from sklearn.preprocessing import MinMaxScaler"
   ]
  },
  {
   "cell_type": "code",
   "execution_count": 2,
   "metadata": {},
   "outputs": [],
   "source": [
    "X_train = pd.read_csv(\"https://raw.githubusercontent.com/erdemsirel/ds555_hw3_scoring/master/X_train.csv\")\n",
    "X_test = pd.read_csv(\"https://raw.githubusercontent.com/erdemsirel/ds555_hw3_scoring/master/X_test.csv\")"
   ]
  },
  {
   "cell_type": "code",
   "execution_count": 3,
   "metadata": {},
   "outputs": [
    {
     "data": {
      "text/plain": [
       "[<matplotlib.lines.Line2D at 0x7fbf80dba2e0>]"
      ]
     },
     "execution_count": 3,
     "metadata": {},
     "output_type": "execute_result"
    },
    {
     "data": {
      "image/png": "[encoded data removed]",
      "text/plain": [
       "<Figure size 432x288 with 1 Axes>"
      ]
     },
     "metadata": {
      "needs_background": "light"
     },
     "output_type": "display_data"
    }
   ],
   "source": [
    "s = X_train.mpg\n",
    "cdf=s.value_counts().sort_index().cumsum() / s.shape[0]\n",
    "cdf = [cdf[cdf<=i].count()/cdf.count() for i in np.arange(0.1, 1.1,0.1)]\n",
    "plt.plot(cdf, np.arange(0.1, 1.1,0.1))"
   ]
  },
  {
   "cell_type": "code",
   "execution_count": 4,
   "metadata": {},
   "outputs": [
    {
     "data": {
      "text/plain": [
       "NormaltestResult(statistic=7524.321635067164, pvalue=0.0)"
      ]
     },
     "execution_count": 4,
     "metadata": {},
     "output_type": "execute_result"
    }
   ],
   "source": [
    "normaltest(s)"
   ]
  },
  {
   "cell_type": "code",
   "execution_count": 5,
   "metadata": {},
   "outputs": [
    {
     "data": {
      "text/plain": [
       "carID         15832.446169\n",
       "year           2016.737903\n",
       "mileage       24956.286895\n",
       "tax             152.332661\n",
       "mpg              50.370766\n",
       "engineSize        2.124375\n",
       "Name: mean, dtype: float64"
      ]
     },
     "execution_count": 5,
     "metadata": {},
     "output_type": "execute_result"
    }
   ],
   "source": [
    "ref = X_train.describe().T\n",
    "ref['mean']"
   ]
  },
  {
   "cell_type": "code",
   "execution_count": 216,
   "metadata": {},
   "outputs": [
    {
     "data": {
      "text/plain": [
       "KstestResult(statistic=0.020833735754297856, pvalue=0.43076170727755936)"
      ]
     },
     "execution_count": 216,
     "metadata": {},
     "output_type": "execute_result"
    }
   ],
   "source": [
    "kstest(X_test.mileage, X_train.mileage)"
   ]
  },
  {
   "cell_type": "code",
   "execution_count": 217,
   "metadata": {},
   "outputs": [
    {
     "data": {
      "text/plain": [
       "KstestResult(statistic=0.14415322580645162, pvalue=6.454171373044088e-49)"
      ]
     },
     "execution_count": 217,
     "metadata": {},
     "output_type": "execute_result"
    }
   ],
   "source": [
    "kstest(X_test.mileage, lambda x: metrics.cdf(x, X_train.mileage, bins=100))\n"
   ]
  },
  {
   "cell_type": "code",
   "execution_count": 218,
   "metadata": {},
   "outputs": [
    {
     "data": {
      "text/plain": [
       "KstestResult(statistic=0.14415322580645162, pvalue=2.0890080903811414e-90)"
      ]
     },
     "execution_count": 218,
     "metadata": {},
     "output_type": "execute_result"
    }
   ],
   "source": [
    "a = np.random.normal(X_train.mileage.mean(), X_train.mileage.std(), size=len(X_train.mileage))\n",
    "kstest(a, lambda x: metrics.cdf(x, X_train.mileage, bins=100))"
   ]
  },
  {
   "cell_type": "code",
   "execution_count": 219,
   "metadata": {},
   "outputs": [
    {
     "data": {
      "text/plain": [
       "KstestResult(statistic=0.1465725806451613, pvalue=7.260004093775498e-47)"
      ]
     },
     "execution_count": 219,
     "metadata": {},
     "output_type": "execute_result"
    }
   ],
   "source": [
    "kstest(a, X_train.mileage)"
   ]
  },
  {
   "cell_type": "code",
   "execution_count": 213,
   "metadata": {},
   "outputs": [
    {
     "data": {
      "text/plain": [
       "(-258.0, 51800.8]       0.875000\n",
       "(51800.8, 103600.6]     0.987702\n",
       "(103600.6, 155400.4]    0.998185\n",
       "(155400.4, 207200.2]    0.999597\n",
       "(207200.2, 259000.0]    1.000000\n",
       "Name: mileage, dtype: float64"
      ]
     },
     "execution_count": 213,
     "metadata": {},
     "output_type": "execute_result"
    }
   ],
   "source": [
    "X_train.mileage.value_counts(bins=5, normalize=True).sort_index().cumsum()"
   ]
  },
  {
   "cell_type": "code",
   "execution_count": 214,
   "metadata": {},
   "outputs": [
    {
     "name": "stdout",
     "output_type": "stream",
     "text": [
      "The autoreload extension is already loaded. To reload it, use:\n",
      "  %reload_ext autoreload\n"
     ]
    }
   ],
   "source": [
    "%load_ext autoreload\n",
    "%autoreload 2\n",
    "\n",
    "import metrics"
   ]
  },
  {
   "cell_type": "code",
   "execution_count": 121,
   "metadata": {},
   "outputs": [
    {
     "name": "stdout",
     "output_type": "stream",
     "text": [
      "0.010729790419147012\n",
      "0.005050798667441935\n",
      "0.011276652344032087\n",
      "True\n",
      "True\n",
      "None\n",
      "0.0033215917418785287\n"
     ]
    }
   ],
   "source": [
    "ref_var = X_train.engineSize\n",
    "var = X_test.engineSize\n",
    "print(metrics.abs_difference_of_means(ref_var, var))\n",
    "print(metrics.relative_abs_difference_of_means(ref_var, var))\n",
    "print(metrics.relative_wasserstein_varance(ref_var, var))\n",
    "print(metrics.is_var_within_z_threshold(ref_var, var, z_threshold=1))\n",
    "print(metrics.is_ks_successfull(ref_var, var))\n",
    "print(metrics.is_vars_normal(ref_var, var))\n",
    "print(metrics.psi(ref_var, var))\n"
   ]
  },
  {
   "cell_type": "code",
   "execution_count": 41,
   "metadata": {},
   "outputs": [
    {
     "data": {
      "text/html": [
       "<div>\n",
       "<style scoped>\n",
       "    .dataframe tbody tr th:only-of-type {\n",
       "        vertical-align: middle;\n",
       "    }\n",
       "\n",
       "    .dataframe tbody tr th {\n",
       "        vertical-align: top;\n",
       "    }\n",
       "\n",
       "    .dataframe thead th {\n",
       "        text-align: right;\n",
       "    }\n",
       "</style>\n",
       "<table border=\"1\" class=\"dataframe\">\n",
       "  <thead>\n",
       "    <tr style=\"text-align: right;\">\n",
       "      <th></th>\n",
       "      <th>carID</th>\n",
       "      <th>year</th>\n",
       "      <th>mileage</th>\n",
       "      <th>tax</th>\n",
       "      <th>mpg</th>\n",
       "      <th>engineSize</th>\n",
       "    </tr>\n",
       "  </thead>\n",
       "  <tbody>\n",
       "    <tr>\n",
       "      <th>count</th>\n",
       "      <td>4960.000000</td>\n",
       "      <td>4960.000000</td>\n",
       "      <td>4960.000000</td>\n",
       "      <td>4960.000000</td>\n",
       "      <td>4960.000000</td>\n",
       "      <td>4960.000000</td>\n",
       "    </tr>\n",
       "    <tr>\n",
       "      <th>mean</th>\n",
       "      <td>15832.446169</td>\n",
       "      <td>2016.737903</td>\n",
       "      <td>24956.286895</td>\n",
       "      <td>152.332661</td>\n",
       "      <td>50.370766</td>\n",
       "      <td>2.124375</td>\n",
       "    </tr>\n",
       "    <tr>\n",
       "      <th>std</th>\n",
       "      <td>2206.717006</td>\n",
       "      <td>2.884035</td>\n",
       "      <td>24443.333662</td>\n",
       "      <td>82.403844</td>\n",
       "      <td>35.746505</td>\n",
       "      <td>0.789368</td>\n",
       "    </tr>\n",
       "    <tr>\n",
       "      <th>min</th>\n",
       "      <td>12002.000000</td>\n",
       "      <td>1997.000000</td>\n",
       "      <td>1.000000</td>\n",
       "      <td>0.000000</td>\n",
       "      <td>2.800000</td>\n",
       "      <td>0.000000</td>\n",
       "    </tr>\n",
       "    <tr>\n",
       "      <th>25%</th>\n",
       "      <td>13929.250000</td>\n",
       "      <td>2016.000000</td>\n",
       "      <td>5641.250000</td>\n",
       "      <td>145.000000</td>\n",
       "      <td>38.700000</td>\n",
       "      <td>1.600000</td>\n",
       "    </tr>\n",
       "    <tr>\n",
       "      <th>50%</th>\n",
       "      <td>15840.000000</td>\n",
       "      <td>2017.000000</td>\n",
       "      <td>19000.000000</td>\n",
       "      <td>145.000000</td>\n",
       "      <td>47.100000</td>\n",
       "      <td>2.000000</td>\n",
       "    </tr>\n",
       "    <tr>\n",
       "      <th>75%</th>\n",
       "      <td>17765.750000</td>\n",
       "      <td>2019.000000</td>\n",
       "      <td>36702.000000</td>\n",
       "      <td>150.000000</td>\n",
       "      <td>54.300000</td>\n",
       "      <td>2.800000</td>\n",
       "    </tr>\n",
       "    <tr>\n",
       "      <th>max</th>\n",
       "      <td>19629.000000</td>\n",
       "      <td>2020.000000</td>\n",
       "      <td>259000.000000</td>\n",
       "      <td>580.000000</td>\n",
       "      <td>470.800000</td>\n",
       "      <td>6.600000</td>\n",
       "    </tr>\n",
       "  </tbody>\n",
       "</table>\n",
       "</div>"
      ],
      "text/plain": [
       "              carID         year        mileage          tax          mpg  \\\n",
       "count   4960.000000  4960.000000    4960.000000  4960.000000  4960.000000   \n",
       "mean   15832.446169  2016.737903   24956.286895   152.332661    50.370766   \n",
       "std     2206.717006     2.884035   24443.333662    82.403844    35.746505   \n",
       "min    12002.000000  1997.000000       1.000000     0.000000     2.800000   \n",
       "25%    13929.250000  2016.000000    5641.250000   145.000000    38.700000   \n",
       "50%    15840.000000  2017.000000   19000.000000   145.000000    47.100000   \n",
       "75%    17765.750000  2019.000000   36702.000000   150.000000    54.300000   \n",
       "max    19629.000000  2020.000000  259000.000000   580.000000   470.800000   \n",
       "\n",
       "        engineSize  \n",
       "count  4960.000000  \n",
       "mean      2.124375  \n",
       "std       0.789368  \n",
       "min       0.000000  \n",
       "25%       1.600000  \n",
       "50%       2.000000  \n",
       "75%       2.800000  \n",
       "max       6.600000  "
      ]
     },
     "execution_count": 41,
     "metadata": {},
     "output_type": "execute_result"
    }
   ],
   "source": [
    "X_train.describe()"
   ]
  },
  {
   "cell_type": "code",
   "execution_count": 42,
   "metadata": {},
   "outputs": [
    {
     "data": {
      "text/html": [
       "<div>\n",
       "<style scoped>\n",
       "    .dataframe tbody tr th:only-of-type {\n",
       "        vertical-align: middle;\n",
       "    }\n",
       "\n",
       "    .dataframe tbody tr th {\n",
       "        vertical-align: top;\n",
       "    }\n",
       "\n",
       "    .dataframe thead th {\n",
       "        text-align: right;\n",
       "    }\n",
       "</style>\n",
       "<table border=\"1\" class=\"dataframe\">\n",
       "  <thead>\n",
       "    <tr style=\"text-align: right;\">\n",
       "      <th></th>\n",
       "      <th>carID</th>\n",
       "      <th>year</th>\n",
       "      <th>mileage</th>\n",
       "      <th>tax</th>\n",
       "      <th>mpg</th>\n",
       "      <th>engineSize</th>\n",
       "    </tr>\n",
       "  </thead>\n",
       "  <tbody>\n",
       "    <tr>\n",
       "      <th>count</th>\n",
       "      <td>2672.000000</td>\n",
       "      <td>2672.000000</td>\n",
       "      <td>2672.000000</td>\n",
       "      <td>2672.000000</td>\n",
       "      <td>2672.000000</td>\n",
       "      <td>2672.000000</td>\n",
       "    </tr>\n",
       "    <tr>\n",
       "      <th>mean</th>\n",
       "      <td>15784.043039</td>\n",
       "      <td>2016.720434</td>\n",
       "      <td>24617.528443</td>\n",
       "      <td>153.261602</td>\n",
       "      <td>49.787275</td>\n",
       "      <td>2.135105</td>\n",
       "    </tr>\n",
       "    <tr>\n",
       "      <th>std</th>\n",
       "      <td>2197.045979</td>\n",
       "      <td>2.898906</td>\n",
       "      <td>23142.032992</td>\n",
       "      <td>80.742530</td>\n",
       "      <td>35.269981</td>\n",
       "      <td>0.768596</td>\n",
       "    </tr>\n",
       "    <tr>\n",
       "      <th>min</th>\n",
       "      <td>12000.000000</td>\n",
       "      <td>1970.000000</td>\n",
       "      <td>1.000000</td>\n",
       "      <td>0.000000</td>\n",
       "      <td>2.800000</td>\n",
       "      <td>0.000000</td>\n",
       "    </tr>\n",
       "    <tr>\n",
       "      <th>25%</th>\n",
       "      <td>13889.750000</td>\n",
       "      <td>2016.000000</td>\n",
       "      <td>6000.000000</td>\n",
       "      <td>145.000000</td>\n",
       "      <td>37.700000</td>\n",
       "      <td>1.600000</td>\n",
       "    </tr>\n",
       "    <tr>\n",
       "      <th>50%</th>\n",
       "      <td>15777.500000</td>\n",
       "      <td>2017.000000</td>\n",
       "      <td>18548.000000</td>\n",
       "      <td>145.000000</td>\n",
       "      <td>47.100000</td>\n",
       "      <td>2.000000</td>\n",
       "    </tr>\n",
       "    <tr>\n",
       "      <th>75%</th>\n",
       "      <td>17661.500000</td>\n",
       "      <td>2019.000000</td>\n",
       "      <td>36272.250000</td>\n",
       "      <td>160.000000</td>\n",
       "      <td>54.300000</td>\n",
       "      <td>2.800000</td>\n",
       "    </tr>\n",
       "    <tr>\n",
       "      <th>max</th>\n",
       "      <td>19631.000000</td>\n",
       "      <td>2020.000000</td>\n",
       "      <td>167054.000000</td>\n",
       "      <td>580.000000</td>\n",
       "      <td>470.800000</td>\n",
       "      <td>6.300000</td>\n",
       "    </tr>\n",
       "  </tbody>\n",
       "</table>\n",
       "</div>"
      ],
      "text/plain": [
       "              carID         year        mileage          tax          mpg  \\\n",
       "count   2672.000000  2672.000000    2672.000000  2672.000000  2672.000000   \n",
       "mean   15784.043039  2016.720434   24617.528443   153.261602    49.787275   \n",
       "std     2197.045979     2.898906   23142.032992    80.742530    35.269981   \n",
       "min    12000.000000  1970.000000       1.000000     0.000000     2.800000   \n",
       "25%    13889.750000  2016.000000    6000.000000   145.000000    37.700000   \n",
       "50%    15777.500000  2017.000000   18548.000000   145.000000    47.100000   \n",
       "75%    17661.500000  2019.000000   36272.250000   160.000000    54.300000   \n",
       "max    19631.000000  2020.000000  167054.000000   580.000000   470.800000   \n",
       "\n",
       "        engineSize  \n",
       "count  2672.000000  \n",
       "mean      2.135105  \n",
       "std       0.768596  \n",
       "min       0.000000  \n",
       "25%       1.600000  \n",
       "50%       2.000000  \n",
       "75%       2.800000  \n",
       "max       6.300000  "
      ]
     },
     "execution_count": 42,
     "metadata": {},
     "output_type": "execute_result"
    }
   ],
   "source": [
    "X_test.describe()"
   ]
  },
  {
   "cell_type": "code",
   "execution_count": 101,
   "metadata": {},
   "outputs": [
    {
     "data": {
      "text/plain": [
       "<AxesSubplot:>"
      ]
     },
     "execution_count": 101,
     "metadata": {},
     "output_type": "execute_result"
    },
    {
     "data": {
      "image/png": "[encoded data removed]",
      "text/plain": [
       "<Figure size 432x288 with 1 Axes>"
      ]
     },
     "metadata": {
      "needs_background": "light"
     },
     "output_type": "display_data"
    }
   ],
   "source": [
    "ref_var.hist()"
   ]
  },
  {
   "cell_type": "code",
   "execution_count": 110,
   "metadata": {},
   "outputs": [],
   "source": [
    "ref_dist, ref_dist_bins = pd.cut(ref_var, 10, retbins=True)\n",
    "ref_dist = ref_dist.value_counts(normalize=True)"
   ]
  },
  {
   "cell_type": "code",
   "execution_count": 113,
   "metadata": {},
   "outputs": [],
   "source": [
    "var_dist = pd.cut(var, bins=ref_dist_bins).value_counts(normalize=True)"
   ]
  },
  {
   "cell_type": "code",
   "execution_count": 120,
   "metadata": {},
   "outputs": [
    {
     "data": {
      "text/plain": [
       "0.0033215917418785287"
      ]
     },
     "execution_count": 120,
     "metadata": {},
     "output_type": "execute_result"
    }
   ],
   "source": [
    "PSI=((var_dist - ref_dist) * np.log(var_dist / ref_dist)).sum()\n",
    "PSI"
   ]
  },
  {
   "cell_type": "code",
   "execution_count": 118,
   "metadata": {},
   "outputs": [
    {
     "data": {
      "text/plain": [
       "(-0.0066, 0.66]    0.107753\n",
       "(0.66, 1.32]      -0.114357\n",
       "(1.32, 1.98]      -0.006902\n",
       "(1.98, 2.64]       0.023391\n",
       "(2.64, 3.3]        0.020913\n",
       "(3.3, 3.96]       -0.228719\n",
       "(3.96, 4.62]       0.048034\n",
       "(4.62, 5.28]       0.002392\n",
       "(5.28, 5.94]      -0.680704\n",
       "(5.94, 6.6]       -0.990859\n",
       "Name: engineSize, dtype: float64"
      ]
     },
     "execution_count": 118,
     "metadata": {},
     "output_type": "execute_result"
    }
   ],
   "source": [
    "np.log(var_dist / ref_dist)"
   ]
  },
  {
   "cell_type": "code",
   "execution_count": 130,
   "metadata": {},
   "outputs": [
    {
     "data": {
      "text/plain": [
       "(1.6, 2.0]    0.340128\n",
       "(0.0, 1.6]    0.268026\n",
       "(2.8, 6.6]    0.251793\n",
       "(2.0, 2.8]    0.140053\n",
       "Name: engineSize, dtype: float64"
      ]
     },
     "execution_count": 130,
     "metadata": {},
     "output_type": "execute_result"
    }
   ],
   "source": [
    "ref_dist, ref_dist_bins = pd.qcut(ref_var, 4, retbins=True)\n",
    "ref_dist = ref_dist.value_counts(normalize=True)\n",
    "\n",
    "var_dist = pd.cut(var, bins=ref_dist_bins).value_counts(normalize=True)\n",
    "var_dist"
   ]
  },
  {
   "cell_type": "code",
   "execution_count": 139,
   "metadata": {},
   "outputs": [
    {
     "data": {
      "text/plain": [
       "(0          (2.0, 2.8]\n",
       " 1          (1.6, 2.0]\n",
       " 2          (2.8, 6.6]\n",
       " 3          (1.6, 2.0]\n",
       " 4       (-0.001, 1.6]\n",
       "             ...      \n",
       " 4955       (2.0, 2.8]\n",
       " 4956       (2.8, 6.6]\n",
       " 4957       (1.6, 2.0]\n",
       " 4958       (2.8, 6.6]\n",
       " 4959       (2.8, 6.6]\n",
       " Name: engineSize, Length: 4960, dtype: category\n",
       " Categories (4, interval[float64, right]): [(-0.001, 1.6] < (1.6, 2.0] < (2.0, 2.8] < (2.8, 6.6]],\n",
       " array([0. , 1.6, 2. , 2.8, 6.6]))"
      ]
     },
     "execution_count": 139,
     "metadata": {},
     "output_type": "execute_result"
    }
   ],
   "source": [
    "def cdf(x, X):\n",
    "    pd.qcut(ref_var, 4, retbins=True)"
   ]
  },
  {
   "cell_type": "code",
   "execution_count": 155,
   "metadata": {},
   "outputs": [
    {
     "data": {
      "text/plain": [
       "0.7487903225806452"
      ]
     },
     "execution_count": 155,
     "metadata": {},
     "output_type": "execute_result"
    }
   ],
   "source": [
    "ref_var.value_counts(bins=10, normalize=True).sort_index().cumsum().loc[2]"
   ]
  },
  {
   "cell_type": "code",
   "execution_count": 159,
   "metadata": {},
   "outputs": [
    {
     "data": {
      "text/plain": [
       "(-0.0076, 0.66]    0.008065\n",
       "(0.66, 1.32]       0.121774\n",
       "(1.32, 1.98]       0.355040\n",
       "(1.98, 2.64]       0.748790\n",
       "(2.64, 3.3]        0.962097\n",
       "(3.3, 3.96]        0.963508\n",
       "(3.96, 4.62]       0.986694\n",
       "(4.62, 5.28]       0.996774\n",
       "(5.28, 5.94]       0.998992\n",
       "(5.94, 6.6]        1.000000\n",
       "Name: engineSize, dtype: float64"
      ]
     },
     "execution_count": 159,
     "metadata": {},
     "output_type": "execute_result"
    }
   ],
   "source": [
    "pdf_ = ref_var.value_counts(bins=10, normalize=True).sort_index().cumsum()\n",
    "a.iloc[a.index.get_loc(5)]"
   ]
  },
  {
   "cell_type": "code",
   "execution_count": 164,
   "metadata": {},
   "outputs": [
    {
     "data": {
      "text/plain": [
       "0.9967741935483873"
      ]
     },
     "execution_count": 164,
     "metadata": {},
     "output_type": "execute_result"
    }
   ],
   "source": []
  },
  {
   "cell_type": "code",
   "execution_count": null,
   "metadata": {},
   "outputs": [],
   "source": []
  }
 ],
 "metadata": {
  "interpreter": {
   "hash": "ac710433cbfb7fdcf11f6366aa179f070fe14dd554ca2d995d6327f5a2195ade"
  },
  "kernelspec": {
   "display_name": "Python 3.8.5 ('base')",
   "language": "python",
   "name": "python3"
  },
  "language_info": {
   "codemirror_mode": {
    "name": "ipython",
    "version": 3
   },
   "file_extension": ".py",
   "mimetype": "text/x-python",
   "name": "python",
   "nbconvert_exporter": "python",
   "pygments_lexer": "ipython3",
   "version": "3.8.8"
  },
  "orig_nbformat": 4
 },
 "nbformat": 4,
 "nbformat_minor": 2
}
